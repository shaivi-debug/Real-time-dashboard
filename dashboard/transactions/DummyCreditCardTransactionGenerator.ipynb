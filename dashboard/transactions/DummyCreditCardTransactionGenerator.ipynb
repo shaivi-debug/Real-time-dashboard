{
 "cells": [
  {
   "cell_type": "code",
   "execution_count": 1,
   "id": "080e8534",
   "metadata": {},
   "outputs": [],
   "source": [
    "from datetime import datetime\n",
    "import os\n",
    "import configparser\n",
    "import random\n",
    "import pandas as pd\n",
    "from time import sleep"
   ]
  },
  {
   "cell_type": "code",
   "execution_count": 2,
   "id": "9703c356",
   "metadata": {},
   "outputs": [
    {
     "data": {
      "text/plain": [
       "['C:\\\\Users\\\\kaush\\\\OneDrive\\\\Desktop\\\\Oneture\\\\DataPOC\\\\dataGenerator.config']"
      ]
     },
     "execution_count": 2,
     "metadata": {},
     "output_type": "execute_result"
    }
   ],
   "source": [
    "config = configparser.ConfigParser(interpolation=configparser.ExtendedInterpolation())\n",
    "config.read(os.path.abspath('dataGenerator.config'))"
   ]
  },
  {
   "cell_type": "code",
   "execution_count": 3,
   "id": "088c9251",
   "metadata": {},
   "outputs": [],
   "source": [
    "df_cards=pd.read_csv(os.path.abspath('cards.csv'))"
   ]
  },
  {
   "cell_type": "code",
   "execution_count": 4,
   "id": "54e27231",
   "metadata": {},
   "outputs": [],
   "source": [
    "limit_transaction_generation_speed=config.get('transaction_generator', 'limit_transaction_generation_speed')\n",
    "food_min_max=config.get('transaction_generator','food_min_max')\n",
    "bill_min_max=config.get('transaction_generator','bill_min_max')\n",
    "grocery_min_max=config.get('transaction_generator','grocery_min_max')\n",
    "entertainment_min_max=config.get('transaction_generator','entertainment_min_max')\n",
    "fuel_min_max=config.get('transaction_generator','fuel_min_max')\n",
    "travel_min_max=config.get('transaction_generator','travel_min_max')\n",
    "shopping_min_max=config.get('transaction_generator','shopping_min_max')\n",
    "time_delay_in_seconds=config.get('transaction_generator','time_delay_in_seconds')"
   ]
  },
  {
   "cell_type": "code",
   "execution_count": 5,
   "id": "c040361a",
   "metadata": {},
   "outputs": [],
   "source": [
    "expense_types=[{'expense':'Bills','expense_min':int(bill_min_max.split(',')[0]),'expense_max':int(bill_min_max.split(',')[1])},\n",
    "     {'expense':'Grocery','expense_min':int(grocery_min_max.split(',')[0]),'expense_max':int(grocery_min_max.split(',')[1])},\n",
    "     {'expense':'Food','expense_min':int(food_min_max.split(',')[0]),'expense_max':int(food_min_max.split(',')[1])},\n",
    "     {'expense':'Entertainment','expense_min':int(entertainment_min_max.split(',')[0]),'expense_max':int(entertainment_min_max.split(',')[1])},\n",
    "     {'expense':'Fuel','expense_min':int(fuel_min_max.split(',')[0]),'expense_max':int(fuel_min_max.split(',')[1])},\n",
    "     {'expense':'Travel','expense_min':int(travel_min_max.split(',')[0]),'expense_max':int(travel_min_max.split(',')[1])},\n",
    "     {'expense':'Shopping','expense_min':int(shopping_min_max.split(',')[0]),'expense_max':int(shopping_min_max.split(',')[1])}]"
   ]
  },
  {
   "cell_type": "code",
   "execution_count": 6,
   "id": "984be274",
   "metadata": {},
   "outputs": [],
   "source": [
    "curr_dt=datetime.now()\n",
    "filename='transactions_'+curr_dt.strftime('%Y%m%d_%H%M%S')+'.csv'"
   ]
  },
  {
   "cell_type": "code",
   "execution_count": 7,
   "id": "49e2a2f9",
   "metadata": {},
   "outputs": [],
   "source": [
    "def generate_transaction(card_details):\n",
    "    card=card_details.sample()\n",
    "    expense=random.choice(expense_types)\n",
    "    current_datetime=datetime.now().strftime('%Y-%m-%d %H:%M:%S')\n",
    "    transaction_detail=pd.DataFrame({\"card_no\":card['card_no'],\n",
    "              \"age\":card['age'],\n",
    "              \"gender\":card['gender'],\n",
    "              \"card_type\":card['card_type'],\n",
    "              \"city\":card['city'],\n",
    "              \"state\":card['state'],\n",
    "              \"txn_datetime\":current_datetime,\n",
    "              \"amount\":random.randint(expense['expense_min'],expense['expense_max']),\n",
    "              \"expense_type\":expense['expense']})\n",
    "    return transaction_detail"
   ]
  },
  {
   "cell_type": "code",
   "execution_count": 8,
   "id": "d7b70710",
   "metadata": {},
   "outputs": [],
   "source": [
    "def get_transaction(card_details):\n",
    "    df_transaction_details = pd.DataFrame(columns = ['card_no', 'age', 'gender','card_type','city','state','txn_datetime','amount','expense_type'])\n",
    "    df_transaction_details=df_transaction_details.append(generate_transaction(card_details))\n",
    "    return df_transaction_details"
   ]
  },
  {
   "cell_type": "code",
   "execution_count": 9,
   "id": "3a2bddda",
   "metadata": {},
   "outputs": [
    {
     "ename": "KeyboardInterrupt",
     "evalue": "",
     "output_type": "error",
     "traceback": [
      "\u001b[1;31m---------------------------------------------------------------------------\u001b[0m",
      "\u001b[1;31mKeyboardInterrupt\u001b[0m                         Traceback (most recent call last)",
      "\u001b[1;32m<ipython-input-9-02fad647d406>\u001b[0m in \u001b[0;36m<module>\u001b[1;34m\u001b[0m\n\u001b[0;32m      3\u001b[0m         \u001b[0mdf\u001b[0m\u001b[1;33m=\u001b[0m\u001b[0mget_transaction\u001b[0m\u001b[1;33m(\u001b[0m\u001b[0mdf_cards\u001b[0m\u001b[1;33m)\u001b[0m\u001b[1;33m\u001b[0m\u001b[1;33m\u001b[0m\u001b[0m\n\u001b[0;32m      4\u001b[0m         \u001b[0mdf\u001b[0m\u001b[1;33m.\u001b[0m\u001b[0mto_csv\u001b[0m\u001b[1;33m(\u001b[0m\u001b[0mfilename\u001b[0m\u001b[1;33m,\u001b[0m\u001b[0msep\u001b[0m\u001b[1;33m=\u001b[0m\u001b[1;34m','\u001b[0m\u001b[1;33m,\u001b[0m\u001b[0mencoding\u001b[0m\u001b[1;33m=\u001b[0m\u001b[1;34m'utf-8'\u001b[0m\u001b[1;33m,\u001b[0m\u001b[0mindex\u001b[0m\u001b[1;33m=\u001b[0m\u001b[1;32mFalse\u001b[0m\u001b[1;33m,\u001b[0m\u001b[0mmode\u001b[0m\u001b[1;33m=\u001b[0m\u001b[1;34m'a'\u001b[0m\u001b[1;33m,\u001b[0m\u001b[0mheader\u001b[0m\u001b[1;33m=\u001b[0m\u001b[1;32mFalse\u001b[0m\u001b[1;33m)\u001b[0m\u001b[1;33m\u001b[0m\u001b[1;33m\u001b[0m\u001b[0m\n\u001b[1;32m----> 5\u001b[1;33m         \u001b[0msleep\u001b[0m\u001b[1;33m(\u001b[0m\u001b[0mfloat\u001b[0m\u001b[1;33m(\u001b[0m\u001b[0mtime_delay_in_seconds\u001b[0m\u001b[1;33m)\u001b[0m\u001b[1;33m)\u001b[0m\u001b[1;33m\u001b[0m\u001b[1;33m\u001b[0m\u001b[0m\n\u001b[0m\u001b[0;32m      6\u001b[0m \u001b[1;32melse\u001b[0m\u001b[1;33m:\u001b[0m\u001b[1;33m\u001b[0m\u001b[1;33m\u001b[0m\u001b[0m\n\u001b[0;32m      7\u001b[0m     \u001b[1;32mwhile\u001b[0m\u001b[1;33m(\u001b[0m\u001b[1;32mTrue\u001b[0m\u001b[1;33m)\u001b[0m\u001b[1;33m:\u001b[0m\u001b[1;33m\u001b[0m\u001b[1;33m\u001b[0m\u001b[0m\n",
      "\u001b[1;31mKeyboardInterrupt\u001b[0m: "
     ]
    }
   ],
   "source": [
    "if(limit_transaction_generation_speed=='Y'):\n",
    "    while(True):\n",
    "        df=get_transaction(df_cards)\n",
    "        df.to_csv(filename,sep=',',encoding='utf-8',index=False,mode='a',header=False)\n",
    "        sleep(float(time_delay_in_seconds))\n",
    "else:\n",
    "    while(True):\n",
    "        df=get_transaction(df_cards)\n",
    "        df.to_csv(filename,sep=',',encoding='utf-8',index=False,mode='a',header=False)"
   ]
  },
  {
   "cell_type": "code",
   "execution_count": null,
   "id": "328996ee",
   "metadata": {},
   "outputs": [],
   "source": []
  }
 ],
 "metadata": {
  "kernelspec": {
   "display_name": "Python 3",
   "language": "python",
   "name": "python3"
  },
  "language_info": {
   "codemirror_mode": {
    "name": "ipython",
    "version": 3
   },
   "file_extension": ".py",
   "mimetype": "text/x-python",
   "name": "python",
   "nbconvert_exporter": "python",
   "pygments_lexer": "ipython3",
   "version": "3.8.8"
  }
 },
 "nbformat": 4,
 "nbformat_minor": 5
}
