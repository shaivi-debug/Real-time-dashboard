{
 "cells": [
  {
   "cell_type": "code",
   "execution_count": 1,
   "id": "5f6dd57d",
   "metadata": {},
   "outputs": [],
   "source": [
    "from random import Random\n",
    "import copy\n",
    "import pandas as pd\n",
    "import random\n",
    "import os\n",
    "import configparser"
   ]
  },
  {
   "cell_type": "code",
   "execution_count": 2,
   "id": "16e62bd4",
   "metadata": {},
   "outputs": [
    {
     "data": {
      "text/plain": [
       "['C:\\\\Users\\\\kaush\\\\OneDrive\\\\Desktop\\\\Oneture\\\\DataPOC\\\\dataGenerator.config']"
      ]
     },
     "execution_count": 2,
     "metadata": {},
     "output_type": "execute_result"
    }
   ],
   "source": [
    "config = configparser.ConfigParser(interpolation=configparser.ExtendedInterpolation())\n",
    "config.read(os.path.abspath('dataGenerator.config'))"
   ]
  },
  {
   "cell_type": "code",
   "execution_count": 3,
   "id": "636036a0",
   "metadata": {},
   "outputs": [],
   "source": [
    "visaPrefixList = [\n",
    "        ['4', '5', '3', '9'],\n",
    "        ['4', '5', '5', '6'],\n",
    "        ['4', '9', '1', '6'],\n",
    "        ['4', '5', '3', '2'],\n",
    "        ['4', '9', '2', '9'],\n",
    "        ['4', '0', '2', '4', '0', '0', '7', '1'],\n",
    "        ['4', '4', '8', '6'],\n",
    "        ['4', '7', '1', '6'],\n",
    "        ['4']]\n",
    "\n",
    "mastercardPrefixList = [\n",
    "        ['5', '1'], ['5', '2'], ['5', '3'], ['5', '4'], ['5', '5']]\n",
    "\n",
    "amexPrefixList = [['3', '4'], ['3', '7']]\n",
    "\n",
    "discoverPrefixList = [['6', '0', '1', '1']]\n",
    "\n",
    "dinersPrefixList = [\n",
    "        ['3', '0', '0'],\n",
    "        ['3', '0', '1'],\n",
    "        ['3', '0', '2'],\n",
    "        ['3', '0', '3'],\n",
    "        ['3', '6'],\n",
    "        ['3', '8']]\n",
    "\n",
    "enRoutePrefixList = [['2', '0', '1', '4'], ['2', '1', '4', '9']]\n",
    "\n",
    "jcbPrefixList = [['3', '5']]\n",
    "\n",
    "voyagerPrefixList = [['8', '6', '9', '9']]"
   ]
  },
  {
   "cell_type": "code",
   "execution_count": 4,
   "id": "10073e56",
   "metadata": {},
   "outputs": [],
   "source": [
    "def completed_number(prefix, length):\n",
    "    \"\"\"\n",
    "    'prefix' is the start of the CC number as a string, any number of digits.\n",
    "    'length' is the length of the CC number to generate. Typically 13 or 16\n",
    "    \"\"\"\n",
    "\n",
    "    ccnumber = prefix\n",
    "\n",
    "    # generate digits\n",
    "\n",
    "    while len(ccnumber) < (length - 1):\n",
    "        digit = str(generator.choice(range(0, 10)))\n",
    "        ccnumber.append(digit)\n",
    "\n",
    "    # Calculate sum\n",
    "\n",
    "    sum = 0\n",
    "    pos = 0\n",
    "\n",
    "    reversedCCnumber = []\n",
    "    reversedCCnumber.extend(ccnumber)\n",
    "    reversedCCnumber.reverse()\n",
    "\n",
    "    while pos < length - 1:\n",
    "\n",
    "        odd = int(reversedCCnumber[pos]) * 2\n",
    "        if odd > 9:\n",
    "            odd -= 9\n",
    "\n",
    "        sum += odd\n",
    "\n",
    "        if pos != (length - 2):\n",
    "\n",
    "            sum += int(reversedCCnumber[pos + 1])\n",
    "\n",
    "        pos += 2\n",
    "\n",
    "    # Calculate check digit\n",
    "\n",
    "    checkdigit = ((sum / 10 + 1) * 10 - sum) % 10\n",
    "\n",
    "    ccnumber.append(str(checkdigit))\n",
    "\n",
    "    return ''.join(ccnumber)\n"
   ]
  },
  {
   "cell_type": "code",
   "execution_count": 5,
   "id": "cc65fe0c",
   "metadata": {},
   "outputs": [],
   "source": [
    "def credit_card_number(rnd, prefixList, length, howMany):\n",
    "\n",
    "    result = []\n",
    "\n",
    "    while len(result) < howMany:\n",
    "\n",
    "        ccnumber = copy.copy(rnd.choice(prefixList))\n",
    "        result.append(completed_number(ccnumber, length))\n",
    "\n",
    "    return result\n"
   ]
  },
  {
   "cell_type": "code",
   "execution_count": 6,
   "id": "456417dd",
   "metadata": {},
   "outputs": [],
   "source": [
    "def output(title, numbers):\n",
    "\n",
    "    result = []\n",
    "    result.append(title)\n",
    "    result.append('-' * len(title))\n",
    "    result.append('\\n'.join(numbers))\n",
    "    result.append('')\n",
    "\n",
    "    return '\\n'.join(result)\n"
   ]
  },
  {
   "cell_type": "code",
   "execution_count": 7,
   "id": "299269c1",
   "metadata": {},
   "outputs": [],
   "source": [
    "generator = Random()\n",
    "generator.seed() "
   ]
  },
  {
   "cell_type": "code",
   "execution_count": 8,
   "id": "14ade333",
   "metadata": {},
   "outputs": [],
   "source": [
    "gender=['M','F']\n",
    "card_types=['Silver','Gold','Platinum','Signature']"
   ]
  },
  {
   "cell_type": "code",
   "execution_count": 9,
   "id": "d74850f4",
   "metadata": {},
   "outputs": [],
   "source": [
    "cities=pd.read_csv(os.path.abspath('cities.csv'))"
   ]
  },
  {
   "cell_type": "code",
   "execution_count": 10,
   "id": "fdde9344",
   "metadata": {
    "scrolled": true
   },
   "outputs": [],
   "source": [
    "def get_card_details():\n",
    "    fetched_city=cities.sample()\n",
    "    card_detail=pd.DataFrame({\"card_no\":[credit_card_number(generator, mastercardPrefixList, 16, 1)[0].split('.')[0]],\n",
    "              \"age\":[random.randint(18, 60)],\n",
    "              \"gender\":[random.choice(gender)],\n",
    "              \"card_type\":[random.choice(card_types)],\n",
    "               \"city\":fetched_city['city'],\n",
    "               \"state\":fetched_city['state']})\n",
    "    return card_detail"
   ]
  },
  {
   "cell_type": "code",
   "execution_count": 11,
   "id": "7a066b62",
   "metadata": {},
   "outputs": [],
   "source": [
    "no_of_cards_to_generate=config.get('card_generator', 'number_of_cards_to_generate')"
   ]
  },
  {
   "cell_type": "code",
   "execution_count": 12,
   "id": "936d60fa",
   "metadata": {},
   "outputs": [],
   "source": [
    "df_card_details = pd.DataFrame(columns = ['card_no', 'age', 'gender','card_type','city','state'])"
   ]
  },
  {
   "cell_type": "code",
   "execution_count": 13,
   "id": "241e56ee",
   "metadata": {},
   "outputs": [],
   "source": [
    "def generate_cards(no_of_cards):\n",
    "    df_card_details = pd.DataFrame(columns = ['card_no', 'age', 'gender','card_type','city','state'])\n",
    "    for i in range(int(no_of_cards_to_generate)):\n",
    "        df_card_details=df_card_details.append(get_card_details())\n",
    "    return df_card_details"
   ]
  },
  {
   "cell_type": "code",
   "execution_count": 14,
   "id": "0c6097a6",
   "metadata": {},
   "outputs": [],
   "source": [
    "dft=generate_cards(no_of_cards_to_generate)"
   ]
  },
  {
   "cell_type": "code",
   "execution_count": 15,
   "id": "d5975a79",
   "metadata": {},
   "outputs": [],
   "source": [
    "if(len(dft.card_no.unique())==int(no_of_cards_to_generate)):\n",
    "    dft.to_csv('cards.csv',sep=',',encoding='utf-8',index=False)\n",
    "else:\n",
    "    print(\"Too many cards expected, ran out of unique combinations\")"
   ]
  },
  {
   "cell_type": "code",
   "execution_count": null,
   "id": "88f85740",
   "metadata": {},
   "outputs": [],
   "source": []
  }
 ],
 "metadata": {
  "kernelspec": {
   "display_name": "Python 3",
   "language": "python",
   "name": "python3"
  },
  "language_info": {
   "codemirror_mode": {
    "name": "ipython",
    "version": 3
   },
   "file_extension": ".py",
   "mimetype": "text/x-python",
   "name": "python",
   "nbconvert_exporter": "python",
   "pygments_lexer": "ipython3",
   "version": "3.8.8"
  }
 },
 "nbformat": 4,
 "nbformat_minor": 5
}
